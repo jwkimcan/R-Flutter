{
 "cells": [
  {
   "cell_type": "markdown",
   "id": "a928842e",
   "metadata": {},
   "source": [
    "# 디지털 산업혁신 데이터를 활용한 데이터 스토리 챌린지 파이썬 소스코드"
   ]
  },
  {
   "cell_type": "markdown",
   "id": "06513b79",
   "metadata": {},
   "source": [
    "# 사용데이터"
   ]
  },
  {
   "cell_type": "markdown",
   "id": "5a0d1439",
   "metadata": {},
   "source": [
    "- 1. 유저 인터넷 키워드 정보(쿠팡) RAW-DATA\n",
    "- 2. 유저 인터넷 키워드 정보(지마켓) RAW-DATA\n",
    "- 3. 유저 인터넷 키워드 정보(11번가) RAW-DATA\n",
    "- 4. 유저 인터넷 키워드 정보(쿠팡) RAW-DATA"
   ]
  },
  {
   "cell_type": "markdown",
   "id": "263bdc5c",
   "metadata": {},
   "source": [
    "## 라이브러리"
   ]
  },
  {
   "cell_type": "code",
   "execution_count": 9,
   "id": "bc4dc52e",
   "metadata": {},
   "outputs": [],
   "source": [
    "import pandas as pd\n",
    "import re"
   ]
  },
  {
   "cell_type": "markdown",
   "id": "3c8ba303",
   "metadata": {},
   "source": [
    "## 1. 유저 인터넷 키워드 정보(쿠팡) RAW-DATA"
   ]
  },
  {
   "cell_type": "code",
   "execution_count": 10,
   "id": "680838f1",
   "metadata": {},
   "outputs": [
    {
     "name": "stdout",
     "output_type": "stream",
     "text": [
      "                          키워드호스트명      검색어명     측정년월일 측정시간\n",
      "0     HTTP://SEARCH.AUCTION.CO.KR        지갑  20170813   20\n",
      "1     HTTP://SEARCH.AUCTION.CO.KR      쪽파씨앗  20170813   16\n",
      "2     HTTP://SEARCH.AUCTION.CO.KR   좁은현관신발장  20170817   11\n",
      "3  HTTP://ITEMPAGE3.AUCTION.CO.KR  미니태양광발전기  20170817   16\n",
      "4  HTTP://ITEMPAGE3.AUCTION.CO.KR    다이어트식품  20170817   13\n",
      "       검색어명     측정년월일\n",
      "0        지갑  20170813\n",
      "1      쪽파씨앗  20170813\n",
      "2   좁은현관신발장  20170817\n",
      "3  미니태양광발전기  20170817\n",
      "4    다이어트식품  20170817\n"
     ]
    }
   ],
   "source": [
    "# 1. 데이터 불러오기\n",
    "\n",
    "filepath ='/Users/dasom/Documents/Data/market/baseDB/csv_tb_st_coupang_srch_l.csv'\n",
    "f = open(filepath, 'r', encoding='cp949')\n",
    "columns = []\n",
    "data = []\n",
    "search_col_n = 3\n",
    "\n",
    "# 데이터를 한줄씩 읽어서 검색어가 공란인 데이터는 제외 후 데이터프레임으로 만들기\n",
    "for index, line in enumerate(f.readlines()):\n",
    "    row = [item.strip() for item in line.split('\\x07')]\n",
    "    if index == 0:\n",
    "        columns = row\n",
    "    else:\n",
    "        search_term = row[search_col_n]        \n",
    "        if len(search_term) == 0: continue             \n",
    "        if len(search_term) > 0:\n",
    "            data.append(row)\n",
    "        \n",
    "df = pd.DataFrame(data)\n",
    "df.columns = columns\n",
    "\n",
    "# 2. 필요한 컬럼만 추출하기\n",
    "coupang_df = df.loc[:,['키워드호스트명', '검색어명', '측정년월일', '측정시간']]\n",
    "print(st_df.head())\n",
    "coupang_mini = df.loc[:,['검색어명', '측정년월일']]\n",
    "print(mini.head())\n",
    "\n",
    "# 3. 테이블 내보내기\n",
    "coupang_df.to_csv('/Users/dasom/Documents/Data/market/data_story_submit/coupang.csv', index=False)\n",
    "coupang_mini.to_csv('/Users/dasom/Documents/Data/market/data_story_submit/coupang_mini.csv', index=False)"
   ]
  },
  {
   "cell_type": "code",
   "execution_count": 11,
   "id": "d91bc84e",
   "metadata": {},
   "outputs": [
    {
     "name": "stdout",
     "output_type": "stream",
     "text": [
      "  검색어명  검색빈도\n",
      "0  물티슈  9768\n",
      "1  원피스  6494\n",
      "2   생수  6486\n",
      "3   커피  4704\n",
      "4  선풍기  4585\n"
     ]
    }
   ],
   "source": [
    "# 4. 상위 검색어 300위 추출하기\n",
    "df_c = pd.DataFrame(coupang_mini['검색어명'].value_counts())\n",
    "_s = df_c.reset_index()\n",
    "columns = ['검색어명', '검색빈도']\n",
    "\n",
    "_s.columns = columns\n",
    "print(_s.head())\n",
    "df_300 = _s.head(300)\n",
    "\n",
    "# 5. 상위 검색어 300위 테이블 내보내기\n",
    "df_300.to_csv('/Users/dasom/Documents/Data/market/data_story_submit/coupang_s_300.csv', index=False)"
   ]
  },
  {
   "cell_type": "markdown",
   "id": "b86cf564",
   "metadata": {},
   "source": [
    "## 2. 유저 인터넷 키워드 정보(지마켓) RAW-DATA"
   ]
  },
  {
   "cell_type": "code",
   "execution_count": 12,
   "id": "5e32b4d7",
   "metadata": {},
   "outputs": [
    {
     "name": "stdout",
     "output_type": "stream",
     "text": [
      "                          키워드호스트명      검색어명     측정년월일 측정시간\n",
      "0     HTTP://SEARCH.AUCTION.CO.KR        지갑  20170813   20\n",
      "1     HTTP://SEARCH.AUCTION.CO.KR      쪽파씨앗  20170813   16\n",
      "2     HTTP://SEARCH.AUCTION.CO.KR   좁은현관신발장  20170817   11\n",
      "3  HTTP://ITEMPAGE3.AUCTION.CO.KR  미니태양광발전기  20170817   16\n",
      "4  HTTP://ITEMPAGE3.AUCTION.CO.KR    다이어트식품  20170817   13\n",
      "       검색어명     측정년월일\n",
      "0        지갑  20170813\n",
      "1      쪽파씨앗  20170813\n",
      "2   좁은현관신발장  20170817\n",
      "3  미니태양광발전기  20170817\n",
      "4    다이어트식품  20170817\n"
     ]
    }
   ],
   "source": [
    "# 1. 데이터 불러오기\n",
    "\n",
    "filepath ='/Users/dasom/Documents/Data/market/baseDB/csv_tb_st_gmarket_srch_l.csv'\n",
    "f = open(filepath, 'r', encoding='cp949')\n",
    "columns = []\n",
    "data = []\n",
    "search_col_n = 3\n",
    "\n",
    "# 데이터를 한줄씩 읽어서 검색어가 공란인 데이터는 제외 후 데이터프레임으로 만들기\n",
    "for index, line in enumerate(f.readlines()):\n",
    "    row = [item.strip() for item in line.split('\\x07')]\n",
    "    if index == 0:\n",
    "        columns = row\n",
    "    else:\n",
    "        search_term = row[search_col_n]        \n",
    "        if len(search_term) == 0: continue             \n",
    "        if len(search_term) > 0:\n",
    "            data.append(row)\n",
    "        \n",
    "df = pd.DataFrame(data)\n",
    "df.columns = columns\n",
    "\n",
    "# 2. 필요한 컬럼만 추출하기\n",
    "gmarket_df = df.loc[:,['키워드호스트명', '검색어명', '측정년월일', '측정시간']]\n",
    "print(st_df.head())\n",
    "gmarket_mini = df.loc[:,['검색어명', '측정년월일']]\n",
    "print(mini.head())\n",
    "\n",
    "# 3. 테이블 내보내기\n",
    "gmarket_df.to_csv('/Users/dasom/Documents/Data/market/data_story_submit/gmarket.csv', index=False)\n",
    "gmarket_mini.to_csv('/Users/dasom/Documents/Data/market/data_story_submit/gmarket_mini.csv', index=False)"
   ]
  },
  {
   "cell_type": "code",
   "execution_count": 13,
   "id": "7a8009f6",
   "metadata": {},
   "outputs": [
    {
     "name": "stdout",
     "output_type": "stream",
     "text": [
      "     검색어명   검색빈도\n",
      "0  메이플스토리  19643\n",
      "1  마인크래프트  13278\n",
      "2      멜론  13199\n",
      "3      로또  11579\n",
      "4    벼룩시장  11409\n"
     ]
    }
   ],
   "source": [
    "# 4. 상위 검색어 300위 추출하기\n",
    "df_c = pd.DataFrame(gmarket_mini['검색어명'].value_counts())\n",
    "_s = df_c.reset_index()\n",
    "columns = ['검색어명', '검색빈도']\n",
    "\n",
    "_s.columns = columns\n",
    "print(_s.head())\n",
    "df_300 = _s.head(300)\n",
    "\n",
    "# 5. 상위 검색어 300위 테이블 내보내기\n",
    "df_300.to_csv('/Users/dasom/Documents/Data/market/data_story_submit/gmarket_s_300.csv', index=False)"
   ]
  },
  {
   "cell_type": "markdown",
   "id": "6b0fa734",
   "metadata": {},
   "source": [
    "## 3. 유저 인터넷 키워드 정보(11번가) RAW-DATA"
   ]
  },
  {
   "cell_type": "code",
   "execution_count": 14,
   "id": "98a5b142",
   "metadata": {},
   "outputs": [
    {
     "name": "stdout",
     "output_type": "stream",
     "text": [
      "                          키워드호스트명      검색어명     측정년월일 측정시간\n",
      "0     HTTP://SEARCH.AUCTION.CO.KR        지갑  20170813   20\n",
      "1     HTTP://SEARCH.AUCTION.CO.KR      쪽파씨앗  20170813   16\n",
      "2     HTTP://SEARCH.AUCTION.CO.KR   좁은현관신발장  20170817   11\n",
      "3  HTTP://ITEMPAGE3.AUCTION.CO.KR  미니태양광발전기  20170817   16\n",
      "4  HTTP://ITEMPAGE3.AUCTION.CO.KR    다이어트식품  20170817   13\n",
      "       검색어명     측정년월일\n",
      "0        지갑  20170813\n",
      "1      쪽파씨앗  20170813\n",
      "2   좁은현관신발장  20170817\n",
      "3  미니태양광발전기  20170817\n",
      "4    다이어트식품  20170817\n"
     ]
    }
   ],
   "source": [
    "# 1. 데이터 불러오기\n",
    "\n",
    "filepath ='/Users/dasom/Documents/Data/market/baseDB/csv_tb_st_11st_srch_l.csv'\n",
    "f = open(filepath, 'r', encoding='cp949')\n",
    "columns = []\n",
    "data = []\n",
    "search_col_n = 3\n",
    "\n",
    "# 데이터를 한줄씩 읽어서 검색어가 공란인 데이터는 제외 후 데이터프레임으로 만들기\n",
    "for index, line in enumerate(f.readlines()):\n",
    "    row = [item.strip() for item in line.split('\\x07')]\n",
    "    if index == 0:\n",
    "        columns = row\n",
    "    else:\n",
    "        search_term = row[search_col_n]        \n",
    "        if len(search_term) == 0: continue             \n",
    "        if len(search_term) > 0:\n",
    "            data.append(row)\n",
    "        \n",
    "df = pd.DataFrame(data)\n",
    "df.columns = columns\n",
    "\n",
    "# 2. 필요한 컬럼만 추출하기\n",
    "st_11st_df = df.loc[:,['키워드호스트명', '검색어명', '측정년월일', '측정시간']]\n",
    "print(st_df.head())\n",
    "st_11st_mini = df.loc[:,['검색어명', '측정년월일']]\n",
    "print(mini.head())\n",
    "\n",
    "# 3. 테이블 내보내기\n",
    "st_11st_df.to_csv('/Users/dasom/Documents/Data/market/data_story_submit/st_11st_1211.csv', index=False)\n",
    "st_11st_mini.to_csv('/Users/dasom/Documents/Data/market/data_story_submit/st_11st_mini_1211.csv', index=False)"
   ]
  },
  {
   "cell_type": "code",
   "execution_count": 15,
   "id": "ed0c77b1",
   "metadata": {},
   "outputs": [
    {
     "name": "stdout",
     "output_type": "stream",
     "text": [
      "    검색어명  검색빈도\n",
      "0     비데  2121\n",
      "1  구글테블릿  2009\n",
      "2    원피스  1747\n",
      "3   오징어입  1367\n",
      "4    물티슈  1316\n"
     ]
    }
   ],
   "source": [
    "# 4. 상위 검색어 300위 추출하기\n",
    "df_c = pd.DataFrame(st_11st_mini['검색어명'].value_counts())\n",
    "_s = df_c.reset_index()\n",
    "columns = ['검색어명', '검색빈도']\n",
    "\n",
    "_s.columns = columns\n",
    "print(_s.head())\n",
    "df_300 = _s.head(300)\n",
    "\n",
    "# 5. 상위 검색어 300위 테이블 내보내기\n",
    "df_300.to_csv('/Users/dasom/Documents/Data/market/data_story_submit/st_11st_s_300.csv', index=False)"
   ]
  },
  {
   "cell_type": "markdown",
   "id": "a8f6218b",
   "metadata": {},
   "source": [
    "## 4. 유저 인터넷 키워드 정보(옥션) RAW-DATA"
   ]
  },
  {
   "cell_type": "code",
   "execution_count": 16,
   "id": "24506d50",
   "metadata": {},
   "outputs": [
    {
     "name": "stdout",
     "output_type": "stream",
     "text": [
      "                          키워드호스트명      검색어명     측정년월일 측정시간\n",
      "0     HTTP://SEARCH.AUCTION.CO.KR        지갑  20170813   20\n",
      "1     HTTP://SEARCH.AUCTION.CO.KR      쪽파씨앗  20170813   16\n",
      "2     HTTP://SEARCH.AUCTION.CO.KR   좁은현관신발장  20170817   11\n",
      "3  HTTP://ITEMPAGE3.AUCTION.CO.KR  미니태양광발전기  20170817   16\n",
      "4  HTTP://ITEMPAGE3.AUCTION.CO.KR    다이어트식품  20170817   13\n",
      "       검색어명     측정년월일\n",
      "0        지갑  20170813\n",
      "1      쪽파씨앗  20170813\n",
      "2   좁은현관신발장  20170817\n",
      "3  미니태양광발전기  20170817\n",
      "4    다이어트식품  20170817\n"
     ]
    }
   ],
   "source": [
    "# 1. 데이터 불러오기\n",
    "\n",
    "filepath ='/Users/dasom/Documents/Data/market/baseDB/csv_tb_st_auction_srch_l.csv'\n",
    "f = open(filepath, 'r', encoding='cp949')\n",
    "columns = []\n",
    "data = []\n",
    "search_col_n = 3\n",
    "\n",
    "# 데이터를 한줄씩 읽어서 검색어가 공란인 데이터는 제외 후 데이터프레임으로 만들기\n",
    "for index, line in enumerate(f.readlines()):\n",
    "    row = [item.strip() for item in line.split('\\x07')]\n",
    "    if index == 0:\n",
    "        columns = row\n",
    "    else:\n",
    "        search_term = row[search_col_n]        \n",
    "        if len(search_term) == 0: continue             \n",
    "        if len(search_term) > 0:\n",
    "            data.append(row)\n",
    "        \n",
    "df = pd.DataFrame(data)\n",
    "df.columns = columns\n",
    "\n",
    "# 2. 필요한 컬럼만 추출하기\n",
    "auction_df = df.loc[:,['키워드호스트명', '검색어명', '측정년월일', '측정시간']]\n",
    "print(st_df.head())\n",
    "auction_mini = df.loc[:,['검색어명', '측정년월일']]\n",
    "print(mini.head())\n",
    "\n",
    "# 3. 테이블 내보내기\n",
    "auction_df.to_csv('/Users/dasom/Documents/Data/market/data_story_submit/auction.csv', index=False)\n",
    "auction_mini.to_csv('/Users/dasom/Documents/Data/market/data_story_submit/auction_mini.csv', index=False)"
   ]
  },
  {
   "cell_type": "code",
   "execution_count": 17,
   "id": "7cf3549b",
   "metadata": {},
   "outputs": [
    {
     "name": "stdout",
     "output_type": "stream",
     "text": [
      "  검색어명  검색빈도\n",
      "0  원피스  2721\n",
      "1  물티슈  2559\n",
      "2  종이컵  2403\n",
      "3  선풍기  2345\n",
      "4  노트북  2240\n"
     ]
    }
   ],
   "source": [
    "# 4. 상위 검색어 300위 추출하기\n",
    "df_c = pd.DataFrame(auction_mini['검색어명'].value_counts())\n",
    "_s = df_c.reset_index()\n",
    "columns = ['검색어명', '검색빈도']\n",
    "\n",
    "_s.columns = columns\n",
    "print(_s.head())\n",
    "df_300 = _s.head(300)\n",
    "\n",
    "# 5. 상위 검색어 300위 테이블 내보내기\n",
    "df_300.to_csv('/Users/dasom/Documents/Data/market/data_story_submit/auction_s_300.csv', index=False)"
   ]
  },
  {
   "cell_type": "markdown",
   "id": "ecfaad5e",
   "metadata": {},
   "source": [
    "## 5. 유저 인터넷 키워드 정보 통합하기(쿠팡, 지마켓, 11번가, 옥션)"
   ]
  },
  {
   "cell_type": "code",
   "execution_count": 18,
   "id": "64d70aa7",
   "metadata": {},
   "outputs": [
    {
     "name": "stdout",
     "output_type": "stream",
     "text": [
      "           검색어명     측정년월일\n",
      "0            쟁반  20170419\n",
      "1            쟁반  20170812\n",
      "2            쟁반  20170328\n",
      "3            쟁반  20170615\n",
      "4            쟁반  20170615\n",
      "...         ...       ...\n",
      "2699316  추석선물셋트  20170918\n",
      "2699317   베티나르디  20160123\n",
      "2699318    여성기모  20160123\n",
      "2699319     발레복  20160123\n",
      "2699320    빨간배추  20170813\n",
      "\n",
      "[11402840 rows x 2 columns]\n"
     ]
    }
   ],
   "source": [
    "# 1. 데이터 병합하기\n",
    "frames = [coupang_mini, gmarket_mini, st_11st_mini, auction_mini]\n",
    "result = pd.concat(frames)\n",
    "print(result)\n",
    "\n",
    "result.to_csv('/Users/dasom/Documents/Data/market/data_story_submit/mini_market_all.csv')"
   ]
  },
  {
   "cell_type": "code",
   "execution_count": 19,
   "id": "c65bc2fc",
   "metadata": {},
   "outputs": [
    {
     "name": "stdout",
     "output_type": "stream",
     "text": [
      "     검색어명   검색빈도\n",
      "0     물티슈  19868\n",
      "1  메이플스토리  19675\n",
      "2     원피스  15509\n",
      "3  마인크래프트  13826\n",
      "4      멜론  13244\n"
     ]
    }
   ],
   "source": [
    "# 2. 상위 검색어 300위 추출하기\n",
    "df_c = pd.DataFrame(result['검색어명'].value_counts())\n",
    "_s = df_c.reset_index()\n",
    "columns = ['검색어명', '검색빈도']\n",
    "\n",
    "_s.columns = columns\n",
    "print(_s.head())\n",
    "df_300 = _s.head(300)\n",
    "\n",
    "# 3. 상위 검색어 300위 테이블 내보내기\n",
    "df_300.to_csv('/Users/dasom/Documents/Data/market/data_story_submit/all_s_300.csv', index=False)"
   ]
  },
  {
   "cell_type": "markdown",
   "id": "b23d22c3",
   "metadata": {},
   "source": [
    "## 6. 연도별 상위 검색어 300위 추출하기"
   ]
  },
  {
   "cell_type": "code",
   "execution_count": 22,
   "id": "8208d7a4",
   "metadata": {},
   "outputs": [],
   "source": [
    "# 연도별로 데이터를 분류하여 각각 내보내기\n",
    "result['date'] = result['측정년월일'].astype(str)\n",
    "result[\"date\"] = pd.to_datetime(result[\"date\"], format='%Y%m%d')\n",
    "result['year'] = result[\"date\"].dt.year  #==> 년도를 반환\n",
    "\n",
    "df_2020 = result[result['year']==2020]\n",
    "df_2020.to_csv('/Users/dasom/Documents/Data/market/data_story_submit/df_2020.csv', index=False)\n",
    "\n",
    "df_2019 = result[result['year']==2019]\n",
    "df_2019.to_csv('/Users/dasom/Documents/Data/market/data_story_submit/df_2019.csv', index=False)\n",
    "\n",
    "df_2018 = result[result['year']==2018]\n",
    "df_2018.to_csv('/Users/dasom/Documents/Data/market/data_story_submit/df_2018.csv', index=False)\n",
    "\n",
    "df_2017 = result[result['year']==2017]\n",
    "df_2017.to_csv('/Users/dasom/Documents/Data/market/data_story_submit/df_2017.csv', index=False)\n",
    "\n",
    "df_2016 = result[result['year']==2016]\n",
    "df_2016.to_csv('/Users/dasom/Documents/Data/market/data_story_submit/df_2016.csv', index=False)"
   ]
  },
  {
   "cell_type": "markdown",
   "id": "63341bfb",
   "metadata": {},
   "source": [
    "## 2016년"
   ]
  },
  {
   "cell_type": "code",
   "execution_count": 23,
   "id": "e446d3a8",
   "metadata": {},
   "outputs": [
    {
     "name": "stdout",
     "output_type": "stream",
     "text": [
      "     검색어명   검색빈도\n",
      "0  메이플스토리  13821\n",
      "1  마인크래프트   9400\n",
      "2      멜론   8604\n",
      "3      크롬   7365\n",
      "4      로또   7316\n"
     ]
    }
   ],
   "source": [
    "# 1. 상위 검색어 300위 추출하기\n",
    "df_c = pd.DataFrame(df_2016['검색어명'].value_counts())\n",
    "_s = df_c.reset_index()\n",
    "columns = ['검색어명', '검색빈도']\n",
    "\n",
    "_s.columns = columns\n",
    "print(_s.head())\n",
    "df_300 = _s.head(300)\n",
    "\n",
    "# 2. 상위 검색어 300위 테이블 내보내기\n",
    "df_300.to_csv('/Users/dasom/Documents/Data/market/data_story_submit/df_2016_top_300.csv', index=False)"
   ]
  },
  {
   "cell_type": "markdown",
   "id": "78cf569e",
   "metadata": {},
   "source": [
    "## 2017년"
   ]
  },
  {
   "cell_type": "code",
   "execution_count": 24,
   "id": "fb2a7d34",
   "metadata": {},
   "outputs": [
    {
     "name": "stdout",
     "output_type": "stream",
     "text": [
      "     검색어명   검색빈도\n",
      "0     물티슈  10567\n",
      "1     원피스   7586\n",
      "2     종이컵   6549\n",
      "3     선풍기   6235\n",
      "4  메이플스토리   5845\n"
     ]
    }
   ],
   "source": [
    "# 1. 상위 검색어 300위 추출하기\n",
    "df_c = pd.DataFrame(df_2017['검색어명'].value_counts())\n",
    "_s = df_c.reset_index()\n",
    "columns = ['검색어명', '검색빈도']\n",
    "\n",
    "_s.columns = columns\n",
    "print(_s.head())\n",
    "df_300 = _s.head(300)\n",
    "\n",
    "# 2. 상위 검색어 300위 테이블 내보내기\n",
    "df_300.to_csv('/Users/dasom/Documents/Data/market/data_story_submit/df_2017_top_300.csv', index=False)"
   ]
  },
  {
   "cell_type": "markdown",
   "id": "742e521a",
   "metadata": {},
   "source": [
    "## 2018년"
   ]
  },
  {
   "cell_type": "code",
   "execution_count": 25,
   "id": "fca2834e",
   "metadata": {},
   "outputs": [
    {
     "name": "stdout",
     "output_type": "stream",
     "text": [
      "    검색어명  검색빈도\n",
      "0    원피스  1214\n",
      "1    물티슈   844\n",
      "2     커피   694\n",
      "3  에고이스트   665\n",
      "4    종이컵   616\n"
     ]
    }
   ],
   "source": [
    "# 1. 상위 검색어 300위 추출하기\n",
    "df_c = pd.DataFrame(df_2018['검색어명'].value_counts())\n",
    "_s = df_c.reset_index()\n",
    "columns = ['검색어명', '검색빈도']\n",
    "\n",
    "_s.columns = columns\n",
    "print(_s.head())\n",
    "df_300 = _s.head(300)\n",
    "\n",
    "# 2. 상위 검색어 300위 테이블 내보내기\n",
    "df_300.to_csv('/Users/dasom/Documents/Data/market/data_story_submit/df_2018_top_300.csv', index=False)"
   ]
  },
  {
   "cell_type": "markdown",
   "id": "c1ad9919",
   "metadata": {},
   "source": [
    "## 2019년"
   ]
  },
  {
   "cell_type": "code",
   "execution_count": 26,
   "id": "395b0b40",
   "metadata": {},
   "outputs": [
    {
     "name": "stdout",
     "output_type": "stream",
     "text": [
      "     검색어명  검색빈도\n",
      "0   에고이스트  1071\n",
      "1     원피스   828\n",
      "2     물티슈   670\n",
      "3    블라우스   519\n",
      "4  에어프라이어   489\n"
     ]
    }
   ],
   "source": [
    "# 1. 상위 검색어 300위 추출하기\n",
    "df_c = pd.DataFrame(df_2019['검색어명'].value_counts())\n",
    "_s = df_c.reset_index()\n",
    "columns = ['검색어명', '검색빈도']\n",
    "\n",
    "_s.columns = columns\n",
    "print(_s.head())\n",
    "df_300 = _s.head(300)\n",
    "\n",
    "# 2. 상위 검색어 300위 테이블 내보내기\n",
    "df_300.to_csv('/Users/dasom/Documents/Data/market/data_story_submit/df_2019_top_300.csv', index=False)"
   ]
  },
  {
   "cell_type": "markdown",
   "id": "48f72330",
   "metadata": {},
   "source": [
    "## 2020년"
   ]
  },
  {
   "cell_type": "code",
   "execution_count": 27,
   "id": "758ce1e3",
   "metadata": {},
   "outputs": [
    {
     "name": "stdout",
     "output_type": "stream",
     "text": [
      "            검색어명  검색빈도\n",
      "0            마스크  3319\n",
      "1    써스데이아일랜드원피스  1638\n",
      "2            원피스  1414\n",
      "3          샤틴원피스  1342\n",
      "4  미세먼지 마스크 KF94  1315\n"
     ]
    }
   ],
   "source": [
    "# 1. 상위 검색어 300위 추출하기\n",
    "df_c = pd.DataFrame(df_2020['검색어명'].value_counts())\n",
    "_s = df_c.reset_index()\n",
    "columns = ['검색어명', '검색빈도']\n",
    "\n",
    "_s.columns = columns\n",
    "print(_s.head())\n",
    "df_300 = _s.head(300)\n",
    "\n",
    "# 2. 상위 검색어 300위 테이블 내보내기\n",
    "df_300.to_csv('/Users/dasom/Documents/Data/market/data_story_submit/df_2020_top_300.csv', index=False)"
   ]
  },
  {
   "cell_type": "code",
   "execution_count": null,
   "id": "deb74079",
   "metadata": {},
   "outputs": [],
   "source": []
  }
 ],
 "metadata": {
  "kernelspec": {
   "display_name": "Python 3",
   "language": "python",
   "name": "python3"
  },
  "language_info": {
   "codemirror_mode": {
    "name": "ipython",
    "version": 3
   },
   "file_extension": ".py",
   "mimetype": "text/x-python",
   "name": "python",
   "nbconvert_exporter": "python",
   "pygments_lexer": "ipython3",
   "version": "3.8.8"
  }
 },
 "nbformat": 4,
 "nbformat_minor": 5
}
